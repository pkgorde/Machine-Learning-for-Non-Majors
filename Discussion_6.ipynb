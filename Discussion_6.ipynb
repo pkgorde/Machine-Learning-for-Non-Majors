{
 "cells": [
  {
   "cell_type": "markdown",
   "id": "a2138a9c-41df-4f0f-92cf-d5fb42266c78",
   "metadata": {},
   "source": [
    "# Convolutional Neural Networks\n",
    "\n",
    "In this discussion, we will specifically focus on Convolutional Neural Networks. \n",
    "\n",
    "The Convolutional neural networks are regularized versions of multilayer perceptron (MLP). They were developed based on the working of the neurons of the animal visual cortex.\n",
    "\n",
    "![alt text](092756.png)"
   ]
  },
  {
   "cell_type": "markdown",
   "id": "7787ee1e-20c3-4098-81c4-717b69ada087",
   "metadata": {},
   "source": [
    "Convolutional Neural Networks (CNNs) are a class of deep neural networks, highly effective for analyzing visual imagery and are widely used in image and video recognition, recommender systems, image classification, medical image analysis, natural language processing, and other types of cognitive tasks. CNNs are particularly tailored to process data that has a grid-like topology, such as images, which can be thought of as 2D grids of pixels."
   ]
  },
  {
   "cell_type": "markdown",
   "id": "3938c80f-9481-4a22-a978-8c245e54262e",
   "metadata": {},
   "source": [
    "Key Components of CNNs: \n",
    "\n",
    "1. $\\textbf{Convolutional Layers}$: The core building block of a CNN. The convolutional layer applies filters (or kernels) to the input image to create feature maps. These filters slide (or \"convolve\") across the input image, computing dot products between the entries of the filter and the input at any position. This process captures the spatial dependencies in the image by recognizing patterns, such as edges, corners, textures, etc.\n",
    "2. $\\textbf{ReLU (Rectified Linear Unit) Layer}$: After each convolution operation, it is common to apply a nonlinear layer (or activation function) like ReLU. ReLU introduces non-linearity to the system, making it capable of learning more complex patterns. It works by replacing all negative pixel values in the feature map with zero.\n",
    "3. $\\textbf{Pooling (Subsampling or Down-sampling) Layers}$: Pooling layers reduce the dimensions of the data by combining the outputs of neuron clusters at one layer into a single neuron in the next layer. Max pooling and average pooling are common techniques used to reduce the spatial size of the representation, to reduce the amount of parameters and computation in the network, and also to make the detection of features invariant to scale and orientation changes.\n",
    "4. $\\textbf{Fully Connected (FC) Layers}$: Towards the end of the network, CNNs may have one or more fully connected layers. Neurons in a fully connected layer have full connections to all activations in the previous layer, as seen in regular neural networks. Their role is to take the high-level filtered images (learned features) from the previous layers to determine which features most correlate with a particular class.\n",
    "5. $\\textbf{Softmax or Sigmoid Layer}$: The final layer, typically, uses a softmax or sigmoid function (depending on the task) to map the output into a probability distribution over the classes (for classification tasks) or a continuous output (for regression tasks)."
   ]
  },
  {
   "cell_type": "markdown",
   "id": "c10cc091-8937-4288-a6a8-7a8dbbc897d9",
   "metadata": {},
   "source": [
    "The foundational work leading to the development of CNNs can be traced back to the pioneering experiments conducted by David Hubel and Torsten Wiesel in the late 1950s and early 1960s. Through their research on the visual cortex of cats, Hubel and Wiesel discovered that the visual cortex contains neurons that are highly specialized for detecting edges, shapes, and movements in specific orientations and locations within the visual field. They identified two types of cells:\n",
    "\n",
    "1. Simple cells, which respond maximally to specific edge orientations and locations within their receptive field.\n",
    "2. Complex cells, which have larger receptive fields and are less sensitive to the exact location of the edges, providing a degree of spatial invariance.\n",
    "\n",
    "Their work demonstrated that the visual processing system in the brain hierarchically organizes visual information, starting from simple features (like edges) and progressively integrating them into more complex patterns (like shapes and objects). This hierarchical processing model is a key principle behind the design of CNNs, where the layers of the network progressively extract and combine features from raw input images to make sense of them."
   ]
  },
  {
   "cell_type": "markdown",
   "id": "068a67ec-fbfb-4ad9-9e9b-c740ee4c1ba7",
   "metadata": {},
   "source": [
    "Explanation Link: https://towardsdatascience.com/basics-of-the-classic-cnn-a3dce1225add\n",
    "\n",
    "Important things to take from article:\n",
    "\n",
    "1. How the chosen kernel extracts information from input images.\n",
    "2. How the dimensionality of the data changes as it progresses through the network.\n",
    "3. the use of Convolutional layers, Pooling layers and softmax/sigmoid layers at the end."
   ]
  },
  {
   "cell_type": "markdown",
   "id": "ab8a5fe3-1c18-4449-bfb6-a37773bae97c",
   "metadata": {},
   "source": [
    "### Coding tutorial for CNN using Keras framework"
   ]
  },
  {
   "cell_type": "code",
   "execution_count": 1,
   "id": "d2b1abf0-ce63-497f-aa93-b1578dd2df95",
   "metadata": {},
   "outputs": [],
   "source": [
    "# # Ensure TensorFlow 2.x is installed\n",
    "# !pip install tensorflow"
   ]
  },
  {
   "cell_type": "code",
   "execution_count": 2,
   "id": "b64e3738-6906-495c-9eba-7f58937234cd",
   "metadata": {},
   "outputs": [],
   "source": [
    "import tensorflow as tf\n",
    "from tensorflow.keras import layers, models\n",
    "import matplotlib.pyplot as plt"
   ]
  },
  {
   "cell_type": "code",
   "execution_count": 3,
   "id": "f39fd090-fc63-453b-9dc3-43e1d22d1fbf",
   "metadata": {},
   "outputs": [],
   "source": [
    "(train_images, train_labels), (test_images, test_labels) = tf.keras.datasets.cifar10.load_data()\n",
    "# Normalize pixel values to be between 0 and 1\n",
    "train_images, test_images = train_images / 255.0, test_images / 255.0"
   ]
  },
  {
   "cell_type": "code",
   "execution_count": 4,
   "id": "c474b6c8-4edf-4aac-8b87-9d4a992f981c",
   "metadata": {},
   "outputs": [
    {
     "data": {
      "text/plain": [
       "<matplotlib.image.AxesImage at 0x2fbf8fb8b80>"
      ]
     },
     "execution_count": 4,
     "metadata": {},
     "output_type": "execute_result"
    },
    {
     "data": {
      "image/png": "[encoded data removed]",
      "text/plain": [
       "<Figure size 640x480 with 1 Axes>"
      ]
     },
     "metadata": {},
     "output_type": "display_data"
    }
   ],
   "source": [
    "plt.imshow(train_images[1])"
   ]
  },
  {
   "cell_type": "code",
   "execution_count": 5,
   "id": "fea73165-c420-4e08-b66d-b567392a51c3",
   "metadata": {},
   "outputs": [
    {
     "name": "stdout",
     "output_type": "stream",
     "text": [
      "[9]\n"
     ]
    }
   ],
   "source": [
    "print(train_labels[1])"
   ]
  },
  {
   "cell_type": "code",
   "execution_count": 6,
   "id": "543bf62f-cb16-4080-816e-55b6b44e21aa",
   "metadata": {},
   "outputs": [],
   "source": [
    "## Define the CNN model to use\n",
    "\n",
    "model = models.Sequential([\n",
    "  layers.Conv2D(32, (3, 3), activation='relu', input_shape=(32, 32, 3)),\n",
    "  layers.MaxPooling2D((2, 2)),\n",
    "  layers.Conv2D(64, (3, 3), activation='relu'),\n",
    "  layers.MaxPooling2D((2, 2)),\n",
    "  layers.Conv2D(64, (3, 3), activation='relu'),\n",
    "  layers.Flatten(),\n",
    "  layers.Dense(64, activation='relu'),\n",
    "  layers.Dense(10)\n",
    "])"
   ]
  },
  {
   "cell_type": "code",
   "execution_count": 7,
   "id": "724f90bd-1d66-4986-a530-25ae3ee1c1ad",
   "metadata": {},
   "outputs": [],
   "source": [
    "# Compile the model with the optimizer of your choice, loss function and metrics to print while training. \n",
    "\n",
    "model.compile(optimizer='adam',\n",
    "              loss=tf.keras.losses.SparseCategoricalCrossentropy(from_logits=True),\n",
    "              metrics=['accuracy'])"
   ]
  },
  {
   "cell_type": "code",
   "execution_count": 8,
   "id": "beef304c-9d54-4759-bd72-84d074a118bb",
   "metadata": {},
   "outputs": [
    {
     "name": "stdout",
     "output_type": "stream",
     "text": [
      "Epoch 1/10\n",
      "1563/1563 [==============================] - 43s 27ms/step - loss: 1.5122 - accuracy: 0.4506 - val_loss: 1.2513 - val_accuracy: 0.5538\n",
      "Epoch 2/10\n",
      "1563/1563 [==============================] - 36s 23ms/step - loss: 1.1350 - accuracy: 0.5992 - val_loss: 1.0922 - val_accuracy: 0.6228\n",
      "Epoch 3/10\n",
      "1563/1563 [==============================] - 37s 24ms/step - loss: 0.9819 - accuracy: 0.6547 - val_loss: 0.9629 - val_accuracy: 0.6601\n",
      "Epoch 4/10\n",
      "1563/1563 [==============================] - 37s 24ms/step - loss: 0.8802 - accuracy: 0.6937 - val_loss: 0.9498 - val_accuracy: 0.6731\n",
      "Epoch 5/10\n",
      "1563/1563 [==============================] - 39s 25ms/step - loss: 0.8062 - accuracy: 0.7176 - val_loss: 0.8789 - val_accuracy: 0.6990\n",
      "Epoch 6/10\n",
      "1563/1563 [==============================] - 36s 23ms/step - loss: 0.7418 - accuracy: 0.7406 - val_loss: 0.9232 - val_accuracy: 0.6871\n",
      "Epoch 7/10\n",
      "1563/1563 [==============================] - 37s 24ms/step - loss: 0.6916 - accuracy: 0.7588 - val_loss: 0.8667 - val_accuracy: 0.7050\n",
      "Epoch 8/10\n",
      "1563/1563 [==============================] - 36s 23ms/step - loss: 0.6523 - accuracy: 0.7722 - val_loss: 0.8926 - val_accuracy: 0.6999\n",
      "Epoch 9/10\n",
      "1563/1563 [==============================] - 37s 23ms/step - loss: 0.6067 - accuracy: 0.7876 - val_loss: 0.8569 - val_accuracy: 0.7122\n",
      "Epoch 10/10\n",
      "1563/1563 [==============================] - 36s 23ms/step - loss: 0.5695 - accuracy: 0.8011 - val_loss: 0.8534 - val_accuracy: 0.7160\n"
     ]
    }
   ],
   "source": [
    "# now fit the model to training data\n",
    "\n",
    "history = model.fit(train_images, train_labels, epochs=10, \n",
    "                    validation_data=(test_images, test_labels))"
   ]
  },
  {
   "cell_type": "code",
   "execution_count": 9,
   "id": "f37d0825-32b6-4a23-8bba-a831c5837a47",
   "metadata": {},
   "outputs": [
    {
     "data": {
      "text/plain": [
       "{'loss': [1.5121649503707886,\n",
       "  1.1349989175796509,\n",
       "  0.9818870425224304,\n",
       "  0.8802013993263245,\n",
       "  0.8061667084693909,\n",
       "  0.7418389320373535,\n",
       "  0.6915522813796997,\n",
       "  0.6522907614707947,\n",
       "  0.606726348400116,\n",
       "  0.5694782137870789],\n",
       " 'accuracy': [0.45058000087738037,\n",
       "  0.5992400050163269,\n",
       "  0.6547200083732605,\n",
       "  0.6936799883842468,\n",
       "  0.7175800204277039,\n",
       "  0.7406200170516968,\n",
       "  0.7587800025939941,\n",
       "  0.772159993648529,\n",
       "  0.7875999808311462,\n",
       "  0.8011199831962585],\n",
       " 'val_loss': [1.251250147819519,\n",
       "  1.0922393798828125,\n",
       "  0.9629251956939697,\n",
       "  0.9498432874679565,\n",
       "  0.8789255619049072,\n",
       "  0.9231979250907898,\n",
       "  0.8667071461677551,\n",
       "  0.8925991058349609,\n",
       "  0.8568987250328064,\n",
       "  0.8533753752708435],\n",
       " 'val_accuracy': [0.5537999868392944,\n",
       "  0.6227999925613403,\n",
       "  0.660099983215332,\n",
       "  0.6730999946594238,\n",
       "  0.6990000009536743,\n",
       "  0.6870999932289124,\n",
       "  0.7049999833106995,\n",
       "  0.6998999714851379,\n",
       "  0.7121999859809875,\n",
       "  0.7160000205039978]}"
      ]
     },
     "execution_count": 9,
     "metadata": {},
     "output_type": "execute_result"
    }
   ],
   "source": [
    "# Use this command to print the histoy of all your metrics over epochs\n",
    "history.history"
   ]
  },
  {
   "cell_type": "code",
   "execution_count": 10,
   "id": "00258155-f1e4-44f8-afb4-160775e59465",
   "metadata": {},
   "outputs": [
    {
     "data": {
      "image/png": "[encoded data removed]",
      "text/plain": [
       "<Figure size 640x480 with 1 Axes>"
      ]
     },
     "metadata": {},
     "output_type": "display_data"
    }
   ],
   "source": [
    "plt.plot(range(10), history.history['accuracy'], label='Training')\n",
    "plt.plot(range(10), history.history['val_accuracy'], label='Testing')\n",
    "plt.xlabel('Epochs')\n",
    "plt.ylabel('accuracy')\n",
    "plt.legend()\n",
    "plt.show()"
   ]
  },
  {
   "cell_type": "code",
   "execution_count": 15,
   "id": "b6f09c32-8471-40be-95ea-fd36230701e8",
   "metadata": {},
   "outputs": [],
   "source": [
    "model.save('model.keras')"
   ]
  },
  {
   "cell_type": "markdown",
   "id": "8ccd8df4-377e-488a-b63b-6cd2a8d65661",
   "metadata": {},
   "source": [
    "![alt text](model.keras.png)"
   ]
  },
  {
   "cell_type": "markdown",
   "id": "c99f9888-0725-4129-a367-67225972c4da",
   "metadata": {},
   "source": [
    "Above image representation created with Netron"
   ]
  }
 ],
 "metadata": {
  "kernelspec": {
   "display_name": "Python 3 (ipykernel)",
   "language": "python",
   "name": "python3"
  },
  "language_info": {
   "codemirror_mode": {
    "name": "ipython",
    "version": 3
   },
   "file_extension": ".py",
   "mimetype": "text/x-python",
   "name": "python",
   "nbconvert_exporter": "python",
   "pygments_lexer": "ipython3",
   "version": "3.9.18"
  }
 },
 "nbformat": 4,
 "nbformat_minor": 5
}
