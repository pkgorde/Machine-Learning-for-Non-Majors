{
 "cells": [
  {
   "cell_type": "markdown",
   "id": "2c5e068f-9989-4539-975b-94faad4a58db",
   "metadata": {},
   "source": [
    "# Discussion 3\n",
    "\n",
    "## NumPy\n",
    "\n",
    "NumPy is a fundamental tool for machine learning. All of the data handling needed for ML projects can be done with numpy.\n",
    "\n",
    "NumPy is a matrix-based framework (array of arrays). unlike pandas, strings will not be a part of your numpy arrays.\n",
    "\n",
    "It is a norm to change the name of numpy to np during importing. It is not required, but is almost always done. "
   ]
  },
  {
   "cell_type": "code",
   "execution_count": 1,
   "id": "58bac889-10f7-42e7-97d5-1af4d264dd7d",
   "metadata": {},
   "outputs": [
    {
     "data": {
      "text/plain": [
       "(array([1, 2, 3]), array([4, 5, 6]))"
      ]
     },
     "execution_count": 1,
     "metadata": {},
     "output_type": "execute_result"
    }
   ],
   "source": [
    "import numpy as np\n",
    "\n",
    "a = np.array([1, 2, 3])\n",
    "b = np.asarray([4,5,6])\n",
    "a, b"
   ]
  },
  {
   "cell_type": "code",
   "execution_count": 2,
   "id": "7f57472a-3218-48bb-81f0-99a307003a82",
   "metadata": {},
   "outputs": [
    {
     "data": {
      "text/plain": [
       "array([[1, 2, 3],\n",
       "       [4, 5, 6]])"
      ]
     },
     "execution_count": 2,
     "metadata": {},
     "output_type": "execute_result"
    }
   ],
   "source": [
    "b = np.array([[1, 2, 3], [4, 5, 6]])\n",
    "b"
   ]
  },
  {
   "cell_type": "markdown",
   "id": "e250d15f-5c3d-44f4-955b-d60fb33de2cc",
   "metadata": {},
   "source": [
    "One of the most important functionalities of np is array.shape. This prints the dimensions of the array"
   ]
  },
  {
   "cell_type": "code",
   "execution_count": 3,
   "id": "72df02ed-1490-4947-b26e-9e3c9a8e2646",
   "metadata": {},
   "outputs": [
    {
     "name": "stdout",
     "output_type": "stream",
     "text": [
      "(3,) (2, 3)\n"
     ]
    }
   ],
   "source": [
    "print(a.shape, b.shape)"
   ]
  },
  {
   "cell_type": "markdown",
   "id": "b6b1f1ad-b84c-4be6-a393-d8795620293d",
   "metadata": {},
   "source": [
    "Likewise, when an array is not in the desired shape that you need, you can use array.reshape to modify the shape to what you want.\n",
    "\n",
    "There are restrictions though, you cannot just pass any number, the nuumber of elements needs to be the same.\n",
    "\n",
    "Link: https://numpy.org/doc/stable/reference/generated/numpy.reshape.html"
   ]
  },
  {
   "cell_type": "code",
   "execution_count": 5,
   "id": "a7c2a0e0-7154-49b1-a321-2d1e324bbe1c",
   "metadata": {},
   "outputs": [
    {
     "name": "stdout",
     "output_type": "stream",
     "text": [
      "[[1 2]\n",
      " [3 4]\n",
      " [5 6]] (3, 2)\n"
     ]
    }
   ],
   "source": [
    "c = b.reshape(3,2)\n",
    "print(c, c.shape)"
   ]
  },
  {
   "cell_type": "code",
   "execution_count": 5,
   "id": "629deba6-c895-40f7-a8e6-1bcaf63de6d2",
   "metadata": {},
   "outputs": [
    {
     "data": {
      "text/plain": [
       "(3, 2)"
      ]
     },
     "execution_count": 5,
     "metadata": {},
     "output_type": "execute_result"
    }
   ],
   "source": [
    "c = b.transpose()\n",
    "c.shape"
   ]
  },
  {
   "cell_type": "code",
   "execution_count": 11,
   "id": "8431829a-fa48-4cff-9e80-2d5343a4e95a",
   "metadata": {},
   "outputs": [
    {
     "name": "stdout",
     "output_type": "stream",
     "text": [
      "[1 2 3 4 5 6] (6,)\n"
     ]
    }
   ],
   "source": [
    "d = b.reshape(6)\n",
    "print(d, d.shape)"
   ]
  },
  {
   "cell_type": "markdown",
   "id": "2252162d-5917-4fd4-b88f-164f91ccf501",
   "metadata": {},
   "source": [
    "One other reshape we saw, commonly used for machine learning tasks is to reshape rows into columns, lets see what happens"
   ]
  },
  {
   "cell_type": "code",
   "execution_count": 10,
   "id": "02f7a7bc-5b90-4a94-98d1-c0429f5666fb",
   "metadata": {},
   "outputs": [
    {
     "name": "stdout",
     "output_type": "stream",
     "text": [
      "[[1]\n",
      " [2]\n",
      " [3]\n",
      " [4]\n",
      " [5]\n",
      " [6]] (6, 1)\n"
     ]
    }
   ],
   "source": [
    "e = d.reshape(-1, 1)\n",
    "print(e, e.shape)"
   ]
  },
  {
   "cell_type": "markdown",
   "id": "47905ec2-6962-4035-b110-c6813a51a942",
   "metadata": {},
   "source": [
    "This is what is happening here: when you read data into an np array, most times, each subarray will be 1 column of the data. \n",
    "\n",
    "The above data reshaping is converting the 1 array of data, into multiple arrays containing 1 array each. In this manner, each array can be considered to be a datapoint.\n",
    "\n",
    "### np array arithmetic"
   ]
  },
  {
   "cell_type": "code",
   "execution_count": 8,
   "id": "8b44f4c7-0658-4214-9177-ef4d1196029c",
   "metadata": {},
   "outputs": [
    {
     "data": {
      "text/plain": [
       "array([2, 4, 6])"
      ]
     },
     "execution_count": 8,
     "metadata": {},
     "output_type": "execute_result"
    }
   ],
   "source": [
    "c = np.array([1, 2, 3])\n",
    "c*2"
   ]
  },
  {
   "cell_type": "markdown",
   "id": "88f876e1-1cc7-44eb-8a86-6a93956c1331",
   "metadata": {},
   "source": [
    "#### np array broadcasting\n",
    "\n",
    "The term broadcasting describes how NumPy treats arrays with different shapes during arithmetic operations. Subject to certain constraints, the smaller array is “broadcast” across the larger array so that they have compatible shapes. Broadcasting provides a means of vectorizing array operations so that looping occurs in C instead of Python. It does this without making needless copies of data and usually leads to efficient algorithm implementations. \n",
    "\n",
    "There are, however, cases where broadcasting is a bad idea because it leads to inefficient use of memory that slows computation.\n",
    "\n",
    "Link: https://numpy.org/doc/stable/user/basics.broadcasting.html"
   ]
  },
  {
   "cell_type": "code",
   "execution_count": 9,
   "id": "4fe167c6-396d-47b0-b819-adba35fe2285",
   "metadata": {},
   "outputs": [
    {
     "data": {
      "text/plain": [
       "(array([[1, 2, 3],\n",
       "        [4, 5, 6]]),\n",
       " array([1, 2, 3]))"
      ]
     },
     "execution_count": 9,
     "metadata": {},
     "output_type": "execute_result"
    }
   ],
   "source": [
    "b, c"
   ]
  },
  {
   "cell_type": "code",
   "execution_count": 13,
   "id": "be6a9dc4-1e9a-41f0-b859-e5461113196d",
   "metadata": {},
   "outputs": [
    {
     "ename": "ValueError",
     "evalue": "operands could not be broadcast together with shapes (2,3) (4,) ",
     "output_type": "error",
     "traceback": [
      "\u001b[0;31m---------------------------------------------------------------------------\u001b[0m",
      "\u001b[0;31mValueError\u001b[0m                                Traceback (most recent call last)",
      "Cell \u001b[0;32mIn[13], line 1\u001b[0m\n\u001b[0;32m----> 1\u001b[0m \u001b[43mb\u001b[49m\u001b[38;5;241;43m+\u001b[39;49m\u001b[43mc\u001b[49m\n",
      "\u001b[0;31mValueError\u001b[0m: operands could not be broadcast together with shapes (2,3) (4,) "
     ]
    }
   ],
   "source": [
    "b+c"
   ]
  },
  {
   "cell_type": "code",
   "execution_count": 12,
   "id": "236ad425-46d8-4b6d-8fd9-957d4ef3d159",
   "metadata": {},
   "outputs": [],
   "source": [
    "c = np.array([1,2,3,4])"
   ]
  },
  {
   "cell_type": "markdown",
   "id": "9f938039-d55c-4f51-a593-29d033001357",
   "metadata": {},
   "source": [
    "Indexing an np array logically works the same as any multidimensional array would work.\n",
    "\n",
    "In order to acccess a specific element, we provide the indices in order of importance, the outermost index being the first one"
   ]
  },
  {
   "cell_type": "code",
   "execution_count": 12,
   "id": "693494b6-fa83-4c84-8e9f-76986ab8fbc3",
   "metadata": {},
   "outputs": [
    {
     "name": "stdout",
     "output_type": "stream",
     "text": [
      "2\n",
      "[2 5]\n",
      "[1 2 3]\n",
      "[4 5 6]\n"
     ]
    }
   ],
   "source": [
    "d = np.array([[1, 2, 3], [4, 5, 6]])\n",
    "print(d[0, 1])\n",
    "print(d[:, 1])\n",
    "for row in d:\n",
    "    print(row)"
   ]
  },
  {
   "cell_type": "markdown",
   "id": "73def882-e55e-4b62-9327-2a11cc82fb73",
   "metadata": {},
   "source": [
    "Matrix operations:\n",
    "\n",
    "The main 2 operations that are specifically for matrices are dot product and cross product.\n",
    "\n",
    "Dot product will give the scalar value product of the 2 arrays. Link: https://numpy.org/doc/stable/reference/generated/numpy.dot.html\n",
    "\n",
    "Matrix multiplication or cross product will return the actual matrix multiplication of the 2 arrays provided. The output will also be a matrix of the appropriate shape. Link: https://numpy.org/doc/stable/reference/generated/numpy.matmul.html\n",
    "\n",
    "Numpy also provides many more matrix related operations with very efficient algorithm implemented for the same such as eigenvectors, eigensum, transpose of vector and so on."
   ]
  },
  {
   "cell_type": "code",
   "execution_count": 17,
   "id": "5b7913d9-632a-4a57-9032-e3ddf3ebd9c5",
   "metadata": {},
   "outputs": [
    {
     "name": "stdout",
     "output_type": "stream",
     "text": [
      "[[ 4  4]\n",
      " [10  8]]\n",
      "[[ 4  4]\n",
      " [10  8]]\n"
     ]
    }
   ],
   "source": [
    "e = np.array([[1, 2], [3, 4]])\n",
    "f = np.array([[2, 0], [1, 2]])\n",
    "print(np.dot(e, f))  # or e @ f\n",
    "\n",
    "print(np.matmul(e, f))"
   ]
  },
  {
   "cell_type": "markdown",
   "id": "fe573c08-a171-4f58-be54-3089bdf7fee6",
   "metadata": {},
   "source": [
    "Random:\n",
    "\n",
    "NumPy has functionality that allows to generate random numbers as well.\n",
    "\n",
    "You can provide specific range to choose the random number from (default is 0-1)"
   ]
  },
  {
   "cell_type": "code",
   "execution_count": 18,
   "id": "16ac6d6d-ccab-4ffc-9556-703edeb06e53",
   "metadata": {},
   "outputs": [
    {
     "data": {
      "text/plain": [
       "0.6196524553757847"
      ]
     },
     "execution_count": 18,
     "metadata": {},
     "output_type": "execute_result"
    }
   ],
   "source": [
    "np.random.rand()"
   ]
  },
  {
   "cell_type": "markdown",
   "id": "e2b40e3f-492a-43dd-aadf-9fbab5d4e1f7",
   "metadata": {},
   "source": [
    "passing arguments to above function also generates an entire matrix of random numbers of given shape"
   ]
  },
  {
   "cell_type": "code",
   "execution_count": 21,
   "id": "e5d25b67-afd8-4b01-91dd-c693564f123d",
   "metadata": {},
   "outputs": [
    {
     "data": {
      "text/plain": [
       "array([[0.3799199 , 0.30460009],\n",
       "       [0.46336676, 0.47060984]])"
      ]
     },
     "execution_count": 21,
     "metadata": {},
     "output_type": "execute_result"
    }
   ],
   "source": [
    "np.random.rand(2,2)"
   ]
  },
  {
   "cell_type": "markdown",
   "id": "a6ddd120-33c5-415c-89a8-50dbb534b8f4",
   "metadata": {},
   "source": [
    "randint generates random integers in the presented range."
   ]
  },
  {
   "cell_type": "code",
   "execution_count": 23,
   "id": "c9e36d99-fb62-4b6b-b42b-c803ae207b7a",
   "metadata": {},
   "outputs": [
    {
     "data": {
      "text/plain": [
       "16"
      ]
     },
     "execution_count": 23,
     "metadata": {},
     "output_type": "execute_result"
    }
   ],
   "source": [
    "np.random.randint(10, 100)"
   ]
  },
  {
   "cell_type": "code",
   "execution_count": null,
   "id": "4a23a9a7-5f8b-4ef7-91e2-596596201366",
   "metadata": {},
   "outputs": [],
   "source": [
    "np.random."
   ]
  },
  {
   "cell_type": "markdown",
   "id": "43a31f4c-f660-4c49-af48-165eac7e31c5",
   "metadata": {},
   "source": [
    "There are also all the random variable distributions available in np.random. you can generate random samples from any random variable distribution you want.\n",
    "\n",
    "link: https://numpy.org/doc/stable/reference/random/index.html\n"
   ]
  },
  {
   "cell_type": "code",
   "execution_count": 29,
   "id": "70404163-5474-41de-a9e9-04b81538a28b",
   "metadata": {},
   "outputs": [
    {
     "data": {
      "text/plain": [
       "0.5104959836159607"
      ]
     },
     "execution_count": 29,
     "metadata": {},
     "output_type": "execute_result"
    }
   ],
   "source": [
    "a = np.random.exponential()\n",
    "a"
   ]
  },
  {
   "cell_type": "markdown",
   "id": "e0f16823-fedd-4b06-8e1c-75247a72024b",
   "metadata": {},
   "source": [
    "## Scikit-learn\n",
    "\n",
    "All your machine learning needs will be found in this library. scikit learn has implemented each one of the base machine learning algorithms pre-implemented and ready to use with your datasets.\n",
    "\n",
    "sklearn also has a module named datasets, which contains many datasets which are famously used as example datasets for testing."
   ]
  },
  {
   "cell_type": "code",
   "execution_count": 14,
   "id": "f3b96bf8-15a5-4887-bdc8-5b205494a9ae",
   "metadata": {},
   "outputs": [],
   "source": [
    "from sklearn import datasets\n",
    "\n",
    "iris = datasets.load_iris()"
   ]
  },
  {
   "cell_type": "code",
   "execution_count": 15,
   "id": "63cce0ab-efbc-462d-a9c3-969396449236",
   "metadata": {},
   "outputs": [
    {
     "data": {
      "text/plain": [
       "{'data': array([[5.1, 3.5, 1.4, 0.2],\n",
       "        [4.9, 3. , 1.4, 0.2],\n",
       "        [4.7, 3.2, 1.3, 0.2],\n",
       "        [4.6, 3.1, 1.5, 0.2],\n",
       "        [5. , 3.6, 1.4, 0.2],\n",
       "        [5.4, 3.9, 1.7, 0.4],\n",
       "        [4.6, 3.4, 1.4, 0.3],\n",
       "        [5. , 3.4, 1.5, 0.2],\n",
       "        [4.4, 2.9, 1.4, 0.2],\n",
       "        [4.9, 3.1, 1.5, 0.1],\n",
       "        [5.4, 3.7, 1.5, 0.2],\n",
       "        [4.8, 3.4, 1.6, 0.2],\n",
       "        [4.8, 3. , 1.4, 0.1],\n",
       "        [4.3, 3. , 1.1, 0.1],\n",
       "        [5.8, 4. , 1.2, 0.2],\n",
       "        [5.7, 4.4, 1.5, 0.4],\n",
       "        [5.4, 3.9, 1.3, 0.4],\n",
       "        [5.1, 3.5, 1.4, 0.3],\n",
       "        [5.7, 3.8, 1.7, 0.3],\n",
       "        [5.1, 3.8, 1.5, 0.3],\n",
       "        [5.4, 3.4, 1.7, 0.2],\n",
       "        [5.1, 3.7, 1.5, 0.4],\n",
       "        [4.6, 3.6, 1. , 0.2],\n",
       "        [5.1, 3.3, 1.7, 0.5],\n",
       "        [4.8, 3.4, 1.9, 0.2],\n",
       "        [5. , 3. , 1.6, 0.2],\n",
       "        [5. , 3.4, 1.6, 0.4],\n",
       "        [5.2, 3.5, 1.5, 0.2],\n",
       "        [5.2, 3.4, 1.4, 0.2],\n",
       "        [4.7, 3.2, 1.6, 0.2],\n",
       "        [4.8, 3.1, 1.6, 0.2],\n",
       "        [5.4, 3.4, 1.5, 0.4],\n",
       "        [5.2, 4.1, 1.5, 0.1],\n",
       "        [5.5, 4.2, 1.4, 0.2],\n",
       "        [4.9, 3.1, 1.5, 0.2],\n",
       "        [5. , 3.2, 1.2, 0.2],\n",
       "        [5.5, 3.5, 1.3, 0.2],\n",
       "        [4.9, 3.6, 1.4, 0.1],\n",
       "        [4.4, 3. , 1.3, 0.2],\n",
       "        [5.1, 3.4, 1.5, 0.2],\n",
       "        [5. , 3.5, 1.3, 0.3],\n",
       "        [4.5, 2.3, 1.3, 0.3],\n",
       "        [4.4, 3.2, 1.3, 0.2],\n",
       "        [5. , 3.5, 1.6, 0.6],\n",
       "        [5.1, 3.8, 1.9, 0.4],\n",
       "        [4.8, 3. , 1.4, 0.3],\n",
       "        [5.1, 3.8, 1.6, 0.2],\n",
       "        [4.6, 3.2, 1.4, 0.2],\n",
       "        [5.3, 3.7, 1.5, 0.2],\n",
       "        [5. , 3.3, 1.4, 0.2],\n",
       "        [7. , 3.2, 4.7, 1.4],\n",
       "        [6.4, 3.2, 4.5, 1.5],\n",
       "        [6.9, 3.1, 4.9, 1.5],\n",
       "        [5.5, 2.3, 4. , 1.3],\n",
       "        [6.5, 2.8, 4.6, 1.5],\n",
       "        [5.7, 2.8, 4.5, 1.3],\n",
       "        [6.3, 3.3, 4.7, 1.6],\n",
       "        [4.9, 2.4, 3.3, 1. ],\n",
       "        [6.6, 2.9, 4.6, 1.3],\n",
       "        [5.2, 2.7, 3.9, 1.4],\n",
       "        [5. , 2. , 3.5, 1. ],\n",
       "        [5.9, 3. , 4.2, 1.5],\n",
       "        [6. , 2.2, 4. , 1. ],\n",
       "        [6.1, 2.9, 4.7, 1.4],\n",
       "        [5.6, 2.9, 3.6, 1.3],\n",
       "        [6.7, 3.1, 4.4, 1.4],\n",
       "        [5.6, 3. , 4.5, 1.5],\n",
       "        [5.8, 2.7, 4.1, 1. ],\n",
       "        [6.2, 2.2, 4.5, 1.5],\n",
       "        [5.6, 2.5, 3.9, 1.1],\n",
       "        [5.9, 3.2, 4.8, 1.8],\n",
       "        [6.1, 2.8, 4. , 1.3],\n",
       "        [6.3, 2.5, 4.9, 1.5],\n",
       "        [6.1, 2.8, 4.7, 1.2],\n",
       "        [6.4, 2.9, 4.3, 1.3],\n",
       "        [6.6, 3. , 4.4, 1.4],\n",
       "        [6.8, 2.8, 4.8, 1.4],\n",
       "        [6.7, 3. , 5. , 1.7],\n",
       "        [6. , 2.9, 4.5, 1.5],\n",
       "        [5.7, 2.6, 3.5, 1. ],\n",
       "        [5.5, 2.4, 3.8, 1.1],\n",
       "        [5.5, 2.4, 3.7, 1. ],\n",
       "        [5.8, 2.7, 3.9, 1.2],\n",
       "        [6. , 2.7, 5.1, 1.6],\n",
       "        [5.4, 3. , 4.5, 1.5],\n",
       "        [6. , 3.4, 4.5, 1.6],\n",
       "        [6.7, 3.1, 4.7, 1.5],\n",
       "        [6.3, 2.3, 4.4, 1.3],\n",
       "        [5.6, 3. , 4.1, 1.3],\n",
       "        [5.5, 2.5, 4. , 1.3],\n",
       "        [5.5, 2.6, 4.4, 1.2],\n",
       "        [6.1, 3. , 4.6, 1.4],\n",
       "        [5.8, 2.6, 4. , 1.2],\n",
       "        [5. , 2.3, 3.3, 1. ],\n",
       "        [5.6, 2.7, 4.2, 1.3],\n",
       "        [5.7, 3. , 4.2, 1.2],\n",
       "        [5.7, 2.9, 4.2, 1.3],\n",
       "        [6.2, 2.9, 4.3, 1.3],\n",
       "        [5.1, 2.5, 3. , 1.1],\n",
       "        [5.7, 2.8, 4.1, 1.3],\n",
       "        [6.3, 3.3, 6. , 2.5],\n",
       "        [5.8, 2.7, 5.1, 1.9],\n",
       "        [7.1, 3. , 5.9, 2.1],\n",
       "        [6.3, 2.9, 5.6, 1.8],\n",
       "        [6.5, 3. , 5.8, 2.2],\n",
       "        [7.6, 3. , 6.6, 2.1],\n",
       "        [4.9, 2.5, 4.5, 1.7],\n",
       "        [7.3, 2.9, 6.3, 1.8],\n",
       "        [6.7, 2.5, 5.8, 1.8],\n",
       "        [7.2, 3.6, 6.1, 2.5],\n",
       "        [6.5, 3.2, 5.1, 2. ],\n",
       "        [6.4, 2.7, 5.3, 1.9],\n",
       "        [6.8, 3. , 5.5, 2.1],\n",
       "        [5.7, 2.5, 5. , 2. ],\n",
       "        [5.8, 2.8, 5.1, 2.4],\n",
       "        [6.4, 3.2, 5.3, 2.3],\n",
       "        [6.5, 3. , 5.5, 1.8],\n",
       "        [7.7, 3.8, 6.7, 2.2],\n",
       "        [7.7, 2.6, 6.9, 2.3],\n",
       "        [6. , 2.2, 5. , 1.5],\n",
       "        [6.9, 3.2, 5.7, 2.3],\n",
       "        [5.6, 2.8, 4.9, 2. ],\n",
       "        [7.7, 2.8, 6.7, 2. ],\n",
       "        [6.3, 2.7, 4.9, 1.8],\n",
       "        [6.7, 3.3, 5.7, 2.1],\n",
       "        [7.2, 3.2, 6. , 1.8],\n",
       "        [6.2, 2.8, 4.8, 1.8],\n",
       "        [6.1, 3. , 4.9, 1.8],\n",
       "        [6.4, 2.8, 5.6, 2.1],\n",
       "        [7.2, 3. , 5.8, 1.6],\n",
       "        [7.4, 2.8, 6.1, 1.9],\n",
       "        [7.9, 3.8, 6.4, 2. ],\n",
       "        [6.4, 2.8, 5.6, 2.2],\n",
       "        [6.3, 2.8, 5.1, 1.5],\n",
       "        [6.1, 2.6, 5.6, 1.4],\n",
       "        [7.7, 3. , 6.1, 2.3],\n",
       "        [6.3, 3.4, 5.6, 2.4],\n",
       "        [6.4, 3.1, 5.5, 1.8],\n",
       "        [6. , 3. , 4.8, 1.8],\n",
       "        [6.9, 3.1, 5.4, 2.1],\n",
       "        [6.7, 3.1, 5.6, 2.4],\n",
       "        [6.9, 3.1, 5.1, 2.3],\n",
       "        [5.8, 2.7, 5.1, 1.9],\n",
       "        [6.8, 3.2, 5.9, 2.3],\n",
       "        [6.7, 3.3, 5.7, 2.5],\n",
       "        [6.7, 3. , 5.2, 2.3],\n",
       "        [6.3, 2.5, 5. , 1.9],\n",
       "        [6.5, 3. , 5.2, 2. ],\n",
       "        [6.2, 3.4, 5.4, 2.3],\n",
       "        [5.9, 3. , 5.1, 1.8]]),\n",
       " 'target': array([0, 0, 0, 0, 0, 0, 0, 0, 0, 0, 0, 0, 0, 0, 0, 0, 0, 0, 0, 0, 0, 0,\n",
       "        0, 0, 0, 0, 0, 0, 0, 0, 0, 0, 0, 0, 0, 0, 0, 0, 0, 0, 0, 0, 0, 0,\n",
       "        0, 0, 0, 0, 0, 0, 1, 1, 1, 1, 1, 1, 1, 1, 1, 1, 1, 1, 1, 1, 1, 1,\n",
       "        1, 1, 1, 1, 1, 1, 1, 1, 1, 1, 1, 1, 1, 1, 1, 1, 1, 1, 1, 1, 1, 1,\n",
       "        1, 1, 1, 1, 1, 1, 1, 1, 1, 1, 1, 1, 2, 2, 2, 2, 2, 2, 2, 2, 2, 2,\n",
       "        2, 2, 2, 2, 2, 2, 2, 2, 2, 2, 2, 2, 2, 2, 2, 2, 2, 2, 2, 2, 2, 2,\n",
       "        2, 2, 2, 2, 2, 2, 2, 2, 2, 2, 2, 2, 2, 2, 2, 2, 2, 2]),\n",
       " 'frame': None,\n",
       " 'target_names': array(['setosa', 'versicolor', 'virginica'], dtype='<U10'),\n",
       " 'DESCR': '.. _iris_dataset:\\n\\nIris plants dataset\\n--------------------\\n\\n**Data Set Characteristics:**\\n\\n:Number of Instances: 150 (50 in each of three classes)\\n:Number of Attributes: 4 numeric, predictive attributes and the class\\n:Attribute Information:\\n    - sepal length in cm\\n    - sepal width in cm\\n    - petal length in cm\\n    - petal width in cm\\n    - class:\\n            - Iris-Setosa\\n            - Iris-Versicolour\\n            - Iris-Virginica\\n\\n:Summary Statistics:\\n\\n============== ==== ==== ======= ===== ====================\\n                Min  Max   Mean    SD   Class Correlation\\n============== ==== ==== ======= ===== ====================\\nsepal length:   4.3  7.9   5.84   0.83    0.7826\\nsepal width:    2.0  4.4   3.05   0.43   -0.4194\\npetal length:   1.0  6.9   3.76   1.76    0.9490  (high!)\\npetal width:    0.1  2.5   1.20   0.76    0.9565  (high!)\\n============== ==== ==== ======= ===== ====================\\n\\n:Missing Attribute Values: None\\n:Class Distribution: 33.3% for each of 3 classes.\\n:Creator: R.A. Fisher\\n:Donor: Michael Marshall (MARSHALL%PLU@io.arc.nasa.gov)\\n:Date: July, 1988\\n\\nThe famous Iris database, first used by Sir R.A. Fisher. The dataset is taken\\nfrom Fisher\\'s paper. Note that it\\'s the same as in R, but not as in the UCI\\nMachine Learning Repository, which has two wrong data points.\\n\\nThis is perhaps the best known database to be found in the\\npattern recognition literature.  Fisher\\'s paper is a classic in the field and\\nis referenced frequently to this day.  (See Duda & Hart, for example.)  The\\ndata set contains 3 classes of 50 instances each, where each class refers to a\\ntype of iris plant.  One class is linearly separable from the other 2; the\\nlatter are NOT linearly separable from each other.\\n\\n|details-start|\\n**References**\\n|details-split|\\n\\n- Fisher, R.A. \"The use of multiple measurements in taxonomic problems\"\\n  Annual Eugenics, 7, Part II, 179-188 (1936); also in \"Contributions to\\n  Mathematical Statistics\" (John Wiley, NY, 1950).\\n- Duda, R.O., & Hart, P.E. (1973) Pattern Classification and Scene Analysis.\\n  (Q327.D83) John Wiley & Sons.  ISBN 0-471-22361-1.  See page 218.\\n- Dasarathy, B.V. (1980) \"Nosing Around the Neighborhood: A New System\\n  Structure and Classification Rule for Recognition in Partially Exposed\\n  Environments\".  IEEE Transactions on Pattern Analysis and Machine\\n  Intelligence, Vol. PAMI-2, No. 1, 67-71.\\n- Gates, G.W. (1972) \"The Reduced Nearest Neighbor Rule\".  IEEE Transactions\\n  on Information Theory, May 1972, 431-433.\\n- See also: 1988 MLC Proceedings, 54-64.  Cheeseman et al\"s AUTOCLASS II\\n  conceptual clustering system finds 3 classes in the data.\\n- Many, many more ...\\n\\n|details-end|\\n',\n",
       " 'feature_names': ['sepal length (cm)',\n",
       "  'sepal width (cm)',\n",
       "  'petal length (cm)',\n",
       "  'petal width (cm)'],\n",
       " 'filename': 'iris.csv',\n",
       " 'data_module': 'sklearn.datasets.data'}"
      ]
     },
     "execution_count": 15,
     "metadata": {},
     "output_type": "execute_result"
    }
   ],
   "source": [
    "iris"
   ]
  },
  {
   "cell_type": "markdown",
   "id": "846faf5e-de8b-4f5c-9579-6a4399f116e8",
   "metadata": {},
   "source": [
    "One of the most important functionalities in sklearn is also the train_test_split. Many times datasets will not be pre-divided into training and testing sets.\n",
    "\n",
    "train_test_split splits the datapoints into whichever percentage distribution, randomly, for your needs "
   ]
  },
  {
   "cell_type": "code",
   "execution_count": 16,
   "id": "a679c4b7-1d37-430f-a15b-6330ea660b2e",
   "metadata": {},
   "outputs": [],
   "source": [
    "from sklearn.model_selection import train_test_split\n",
    "\n",
    "X_train, X_test, y_train, y_test = train_test_split(iris.data, iris.target, test_size=0.2)"
   ]
  },
  {
   "cell_type": "code",
   "execution_count": 17,
   "id": "7b71a714-13ce-459a-9a4c-6e1814e975ae",
   "metadata": {},
   "outputs": [
    {
     "data": {
      "text/plain": [
       "(150, 4)"
      ]
     },
     "execution_count": 17,
     "metadata": {},
     "output_type": "execute_result"
    }
   ],
   "source": [
    "iris.data.shape"
   ]
  },
  {
   "cell_type": "code",
   "execution_count": 18,
   "id": "520e3461-1b7c-4be4-b3eb-cf99d6c77ea2",
   "metadata": {},
   "outputs": [
    {
     "data": {
      "text/plain": [
       "((120, 4), (30, 4))"
      ]
     },
     "execution_count": 18,
     "metadata": {},
     "output_type": "execute_result"
    }
   ],
   "source": [
    "X_train.shape, X_test.shape"
   ]
  },
  {
   "cell_type": "markdown",
   "id": "29529116-0307-4733-bdd4-53fe61ceadd4",
   "metadata": {},
   "source": [
    "You can find any of the ML models that you want to construct in sklearn. Different models will be in different modules, but the building process is the same"
   ]
  },
  {
   "cell_type": "code",
   "execution_count": 19,
   "id": "77b7655e-6b91-41c9-a075-93f20437c5c8",
   "metadata": {},
   "outputs": [],
   "source": [
    "from sklearn.tree import DecisionTreeClassifier\n",
    "from sklearn.linear_model import LinearRegression\n",
    "\n",
    "clf = DecisionTreeClassifier()\n",
    "clf.fit(X_train, y_train)\n",
    "predictions = clf.predict(X_test)"
   ]
  },
  {
   "cell_type": "code",
   "execution_count": 20,
   "id": "6b587fb3-9357-479a-95bb-58b8b31c26ad",
   "metadata": {},
   "outputs": [
    {
     "name": "stdout",
     "output_type": "stream",
     "text": [
      "[(2, 2), (0, 0), (1, 1), (1, 2), (0, 0), (1, 1), (1, 1), (1, 1), (0, 0), (2, 2), (1, 1), (1, 1), (2, 2), (2, 2), (1, 1), (2, 2), (2, 2), (0, 0), (2, 2), (0, 0), (0, 0), (2, 2), (0, 0), (2, 2), (0, 0), (1, 1), (1, 1), (0, 0), (1, 1), (1, 1)]\n"
     ]
    }
   ],
   "source": [
    "print([i for i in zip(predictions, y_test)])"
   ]
  },
  {
   "cell_type": "markdown",
   "id": "cc4e433e-e501-4ff4-8bbf-9582e3809c67",
   "metadata": {},
   "source": [
    "You can also calculate any errors that you want to from sklearn.metrics.\n",
    "\n",
    "Link: https://scikit-learn.org/stable/modules/classes.html#module-sklearn.metrics"
   ]
  },
  {
   "cell_type": "code",
   "execution_count": 22,
   "id": "126847f3-72ef-4a6b-948f-e29ff5f7cc39",
   "metadata": {},
   "outputs": [
    {
     "name": "stdout",
     "output_type": "stream",
     "text": [
      "Mean squared error: 0.03333333333333333\n",
      "Mean absolute error: 0.03333333333333333\n"
     ]
    }
   ],
   "source": [
    "from sklearn.metrics import mean_squared_error, mean_absolute_error\n",
    "\n",
    "print('Mean squared error:', mean_squared_error(predictions, y_test))\n",
    "print('Mean absolute error:', mean_absolute_error(predictions, y_test))"
   ]
  },
  {
   "cell_type": "markdown",
   "id": "4bc7513d-e425-4298-8254-ba53cb6e0420",
   "metadata": {},
   "source": [
    "Confusion matrix: one important metric you can also construct from sklearn.metrics is the confusion matrix.\n",
    "a confusion matrix is a 2x2 matrix showing the percentage of true positives, false negatives, false positives and true negatives respectively\n",
    "\n",
    "In the confusion matrix below, the answer is calculated as follows: Confusion matrix whose i-th row and j-th column entry indicates the number of samples with true label being i-th class and predicted label being j-th class.\n",
    "\n",
    "Link: https://en.wikipedia.org/wiki/Confusion_matrix#:~:text=In%20predictive%20analytics%2C%20a%20table,false%20positives%2C%20and%20true%20negatives.\n",
    "\n",
    "Link: https://scikit-learn.org/stable/modules/generated/sklearn.metrics.confusion_matrix.html\n"
   ]
  },
  {
   "cell_type": "code",
   "execution_count": 23,
   "id": "ef63d6af-6afe-4f10-b44e-39f5bfdf2a30",
   "metadata": {},
   "outputs": [
    {
     "data": {
      "text/plain": [
       "array([[ 9,  0,  0],\n",
       "       [ 0, 11,  1],\n",
       "       [ 0,  0,  9]])"
      ]
     },
     "execution_count": 23,
     "metadata": {},
     "output_type": "execute_result"
    }
   ],
   "source": [
    "from sklearn.metrics import confusion_matrix\n",
    "\n",
    "confusion_matrix(predictions, y_test)"
   ]
  },
  {
   "cell_type": "markdown",
   "id": "0751e82f-fc35-48aa-b6ed-a445e6c2eec9",
   "metadata": {},
   "source": [
    "Data preprocessing:\n",
    "\n",
    "One of the most important things you will have to do is to preprocess your data in order to adjust scaling issues, normalization, etc in order for your data to construct a good model. sklearn has a module named `preprocessing` that has many functionalities that can make this process easy for you."
   ]
  },
  {
   "cell_type": "code",
   "execution_count": 46,
   "id": "5c7507a1-2977-432b-b786-cd6a7fb8d1a3",
   "metadata": {},
   "outputs": [
    {
     "name": "stdout",
     "output_type": "stream",
     "text": [
      "[[7.  3.2 4.7 1.4]\n",
      " [6.5 2.8 4.6 1.5]\n",
      " [6.  2.9 4.5 1.5]\n",
      " [6.7 2.5 5.8 1.8]\n",
      " [6.7 3.1 5.6 2.4]\n",
      " [6.1 2.9 4.7 1.4]\n",
      " [6.4 2.9 4.3 1.3]\n",
      " [5.4 3.4 1.7 0.2]\n",
      " [5.6 2.9 3.6 1.3]\n",
      " [5.4 3.9 1.3 0.4]\n",
      " [6.4 2.7 5.3 1.9]\n",
      " [7.6 3.  6.6 2.1]\n",
      " [6.2 2.9 4.3 1.3]\n",
      " [5.6 3.  4.1 1.3]\n",
      " [4.9 3.1 1.5 0.1]\n",
      " [5.9 3.  5.1 1.8]\n",
      " [4.8 3.4 1.9 0.2]\n",
      " [4.9 2.4 3.3 1. ]\n",
      " [7.7 3.8 6.7 2.2]\n",
      " [5.7 2.8 4.1 1.3]\n",
      " [5.5 2.5 4.  1.3]\n",
      " [6.3 2.5 5.  1.9]\n",
      " [5.  3.5 1.6 0.6]\n",
      " [5.8 2.8 5.1 2.4]\n",
      " [4.9 3.6 1.4 0.1]\n",
      " [5.1 3.5 1.4 0.2]\n",
      " [5.6 2.7 4.2 1.3]\n",
      " [6.3 2.3 4.4 1.3]\n",
      " [7.2 3.6 6.1 2.5]\n",
      " [6.6 2.9 4.6 1.3]\n",
      " [6.  3.4 4.5 1.6]\n",
      " [4.6 3.4 1.4 0.3]\n",
      " [5.1 3.8 1.5 0.3]\n",
      " [5.8 2.6 4.  1.2]\n",
      " [5.8 2.7 4.1 1. ]\n",
      " [7.3 2.9 6.3 1.8]\n",
      " [5.1 3.3 1.7 0.5]\n",
      " [5.  3.6 1.4 0.2]\n",
      " [4.6 3.2 1.4 0.2]\n",
      " [6.8 3.2 5.9 2.3]\n",
      " [6.7 3.1 4.7 1.5]\n",
      " [4.4 3.2 1.3 0.2]\n",
      " [4.8 3.4 1.6 0.2]\n",
      " [5.7 3.  4.2 1.2]\n",
      " [6.5 3.  5.2 2. ]\n",
      " [4.7 3.2 1.6 0.2]\n",
      " [4.6 3.1 1.5 0.2]\n",
      " [5.8 4.  1.2 0.2]\n",
      " [6.6 3.  4.4 1.4]\n",
      " [6.3 2.5 4.9 1.5]\n",
      " [5.5 2.6 4.4 1.2]\n",
      " [5.1 3.8 1.6 0.2]\n",
      " [5.  2.3 3.3 1. ]\n",
      " [6.3 3.4 5.6 2.4]\n",
      " [5.5 2.4 3.8 1.1]\n",
      " [6.9 3.1 4.9 1.5]\n",
      " [4.9 3.  1.4 0.2]\n",
      " [4.4 3.  1.3 0.2]\n",
      " [6.5 3.2 5.1 2. ]\n",
      " [5.1 3.8 1.9 0.4]\n",
      " [4.3 3.  1.1 0.1]\n",
      " [6.4 3.1 5.5 1.8]\n",
      " [6.4 2.8 5.6 2.1]\n",
      " [6.  2.2 5.  1.5]\n",
      " [6.1 2.8 4.  1.3]\n",
      " [5.9 3.2 4.8 1.8]\n",
      " [6.3 2.8 5.1 1.5]\n",
      " [7.9 3.8 6.4 2. ]\n",
      " [4.8 3.  1.4 0.1]\n",
      " [7.2 3.2 6.  1.8]\n",
      " [6.  2.7 5.1 1.6]\n",
      " [5.8 2.7 5.1 1.9]\n",
      " [5.7 2.5 5.  2. ]\n",
      " [6.3 3.3 6.  2.5]\n",
      " [5.  3.  1.6 0.2]\n",
      " [6.7 3.  5.  1.7]\n",
      " [6.  2.2 4.  1. ]\n",
      " [5.2 3.5 1.5 0.2]\n",
      " [5.8 2.7 5.1 1.9]\n",
      " [5.  3.4 1.5 0.2]\n",
      " [6.8 2.8 4.8 1.4]\n",
      " [7.1 3.  5.9 2.1]\n",
      " [4.7 3.2 1.3 0.2]\n",
      " [5.7 4.4 1.5 0.4]\n",
      " [4.8 3.  1.4 0.3]\n",
      " [5.7 2.9 4.2 1.3]\n",
      " [6.4 3.2 4.5 1.5]\n",
      " [6.2 2.2 4.5 1.5]\n",
      " [7.7 2.8 6.7 2. ]\n",
      " [5.6 3.  4.5 1.5]\n",
      " [4.9 2.5 4.5 1.7]\n",
      " [5.2 4.1 1.5 0.1]\n",
      " [5.8 2.7 3.9 1.2]\n",
      " [4.5 2.3 1.3 0.3]\n",
      " [6.3 2.7 4.9 1.8]\n",
      " [6.8 3.  5.5 2.1]\n",
      " [5.5 2.4 3.7 1. ]\n",
      " [5.1 2.5 3.  1.1]\n",
      " [5.2 2.7 3.9 1.4]\n",
      " [4.8 3.1 1.6 0.2]\n",
      " [6.1 2.8 4.7 1.2]\n",
      " [5.4 3.9 1.7 0.4]\n",
      " [5.2 3.4 1.4 0.2]\n",
      " [6.7 3.1 4.4 1.4]\n",
      " [6.5 3.  5.8 2.2]\n",
      " [5.7 3.8 1.7 0.3]\n",
      " [5.5 3.5 1.3 0.2]\n",
      " [4.6 3.6 1.  0.2]\n",
      " [6.9 3.1 5.4 2.1]\n",
      " [7.4 2.8 6.1 1.9]\n",
      " [6.  3.  4.8 1.8]\n",
      " [6.2 2.8 4.8 1.8]\n",
      " [7.7 3.  6.1 2.3]\n",
      " [5.5 4.2 1.4 0.2]\n",
      " [5.  2.  3.5 1. ]\n",
      " [5.6 2.8 4.9 2. ]\n",
      " [5.7 2.8 4.5 1.3]\n",
      " [5.5 2.3 4.  1.3]\n",
      " [6.3 2.9 5.6 1.8]\n",
      " [5.4 3.  4.5 1.5]] [[5.1 3.5 1.4 0.3]\n",
      " [5.9 3.  4.2 1.5]\n",
      " [4.4 2.9 1.4 0.2]\n",
      " [6.4 2.8 5.6 2.2]\n",
      " [5.4 3.4 1.5 0.4]\n",
      " [4.9 3.1 1.5 0.2]\n",
      " [6.4 3.2 5.3 2.3]\n",
      " [6.7 3.  5.2 2.3]\n",
      " [6.5 3.  5.5 1.8]\n",
      " [5.  3.4 1.6 0.4]\n",
      " [6.1 2.6 5.6 1.4]\n",
      " [5.7 2.6 3.5 1. ]\n",
      " [5.  3.5 1.3 0.3]\n",
      " [6.3 3.3 4.7 1.6]\n",
      " [5.  3.3 1.4 0.2]\n",
      " [5.6 2.5 3.9 1.1]\n",
      " [5.4 3.7 1.5 0.2]\n",
      " [6.1 3.  4.9 1.8]\n",
      " [5.3 3.7 1.5 0.2]\n",
      " [5.1 3.4 1.5 0.2]\n",
      " [6.9 3.1 5.1 2.3]\n",
      " [7.7 2.6 6.9 2.3]\n",
      " [7.2 3.  5.8 1.6]\n",
      " [6.7 3.3 5.7 2.5]\n",
      " [5.1 3.7 1.5 0.4]\n",
      " [6.2 3.4 5.4 2.3]\n",
      " [6.1 3.  4.6 1.4]\n",
      " [5.  3.2 1.2 0.2]\n",
      " [6.7 3.3 5.7 2.1]\n",
      " [6.9 3.2 5.7 2.3]]\n",
      "[[ 1.40924908  0.36857537  0.53924491  0.28641344]\n",
      " [ 0.80657663 -0.51160461  0.4808956   0.42334417]\n",
      " [ 0.20390418 -0.29155962  0.42254628  0.42334417]\n",
      " [ 1.04764561 -1.1717396   1.18108737  0.83413635]\n",
      " [ 1.04764561  0.14853037  1.06438874  1.65572073]\n",
      " [ 0.32443867 -0.29155962  0.53924491  0.28641344]\n",
      " [ 0.68604214 -0.29155962  0.30584766  0.14948271]\n",
      " [-0.51930276  0.80866536 -1.21123451 -1.3567553 ]\n",
      " [-0.27823378 -0.29155962 -0.10259754  0.14948271]\n",
      " [-0.51930276  1.90889033 -1.44463177 -1.08289384]\n",
      " [ 0.68604214 -0.73164961  0.8893408   0.97106708]\n",
      " [ 2.13245602 -0.07151462  1.64788188  1.24492854]\n",
      " [ 0.44497316 -0.29155962  0.30584766  0.14948271]\n",
      " [-0.27823378 -0.07151462  0.18914903  0.14948271]\n",
      " [-1.12197521  0.14853037 -1.32793314 -1.49368603]\n",
      " [ 0.08336969 -0.07151462  0.77264217  0.83413635]\n",
      " [-1.2425097   0.80866536 -1.09453589 -1.3567553 ]\n",
      " [-1.12197521 -1.39178459 -0.27764549 -0.26130947]\n",
      " [ 2.25299051  1.68884533  1.7062312   1.38185927]\n",
      " [-0.15769929 -0.51160461  0.18914903  0.14948271]\n",
      " [-0.39876827 -1.1717396   0.13079971  0.14948271]\n",
      " [ 0.56550765 -1.1717396   0.71429285  0.97106708]\n",
      " [-1.00144072  1.02871035 -1.26958383 -0.80903239]\n",
      " [-0.0371648  -0.51160461  0.77264217  1.65572073]\n",
      " [-1.12197521  1.24875534 -1.38628246 -1.49368603]\n",
      " [-0.88090623  1.02871035 -1.38628246 -1.3567553 ]\n",
      " [-0.27823378 -0.73164961  0.24749834  0.14948271]\n",
      " [ 0.56550765 -1.61182959  0.36419697  0.14948271]\n",
      " [ 1.65031806  1.24875534  1.35613531  1.79265145]\n",
      " [ 0.92711112 -0.29155962  0.4808956   0.14948271]\n",
      " [ 0.20390418  0.80866536  0.42254628  0.5602749 ]\n",
      " [-1.48357868  0.80866536 -1.38628246 -1.21982457]\n",
      " [-0.88090623  1.68884533 -1.32793314 -1.21982457]\n",
      " [-0.0371648  -0.9516946   0.13079971  0.01255198]\n",
      " [-0.0371648  -0.73164961  0.18914903 -0.26130947]\n",
      " [ 1.77085255 -0.29155962  1.47283394  0.83413635]\n",
      " [-0.88090623  0.58862036 -1.21123451 -0.94596312]\n",
      " [-1.00144072  1.24875534 -1.38628246 -1.3567553 ]\n",
      " [-1.48357868  0.36857537 -1.38628246 -1.3567553 ]\n",
      " [ 1.1681801   0.36857537  1.23943668  1.51879   ]\n",
      " [ 1.04764561  0.14853037  0.53924491  0.42334417]\n",
      " [-1.72464766  0.36857537 -1.44463177 -1.3567553 ]\n",
      " [-1.2425097   0.80866536 -1.26958383 -1.3567553 ]\n",
      " [-0.15769929 -0.07151462  0.24749834  0.01255198]\n",
      " [ 0.80657663 -0.07151462  0.83099148  1.10799781]\n",
      " [-1.36304419  0.36857537 -1.26958383 -1.3567553 ]\n",
      " [-1.48357868  0.14853037 -1.32793314 -1.3567553 ]\n",
      " [-0.0371648   2.12893532 -1.50298108 -1.3567553 ]\n",
      " [ 0.92711112 -0.07151462  0.36419697  0.28641344]\n",
      " [ 0.56550765 -1.1717396   0.65594354  0.42334417]\n",
      " [-0.39876827 -0.9516946   0.36419697  0.01255198]\n",
      " [-0.88090623  1.68884533 -1.26958383 -1.3567553 ]\n",
      " [-1.00144072 -1.61182959 -0.27764549 -0.26130947]\n",
      " [ 0.56550765  0.80866536  1.06438874  1.65572073]\n",
      " [-0.39876827 -1.39178459  0.01410108 -0.12437875]\n",
      " [ 1.28871459  0.14853037  0.65594354  0.42334417]\n",
      " [-1.12197521 -0.07151462 -1.38628246 -1.3567553 ]\n",
      " [-1.72464766 -0.07151462 -1.44463177 -1.3567553 ]\n",
      " [ 0.80657663  0.36857537  0.77264217  1.10799781]\n",
      " [-0.88090623  1.68884533 -1.09453589 -1.08289384]\n",
      " [-1.84518215 -0.07151462 -1.5613304  -1.49368603]\n",
      " [ 0.68604214  0.14853037  1.00603943  0.83413635]\n",
      " [ 0.68604214 -0.51160461  1.06438874  1.24492854]\n",
      " [ 0.20390418 -1.83187458  0.71429285  0.42334417]\n",
      " [ 0.32443867 -0.51160461  0.13079971  0.14948271]\n",
      " [ 0.08336969  0.36857537  0.59759423  0.83413635]\n",
      " [ 0.56550765 -0.51160461  0.77264217  0.42334417]\n",
      " [ 2.49405949  1.68884533  1.53118325  1.10799781]\n",
      " [-1.2425097  -0.07151462 -1.38628246 -1.49368603]\n",
      " [ 1.65031806  0.36857537  1.297786    0.83413635]\n",
      " [ 0.20390418 -0.73164961  0.77264217  0.5602749 ]\n",
      " [-0.0371648  -0.73164961  0.77264217  0.97106708]\n",
      " [-0.15769929 -1.1717396   0.71429285  1.10799781]\n",
      " [ 0.56550765  0.58862036  1.297786    1.79265145]\n",
      " [-1.00144072 -0.07151462 -1.26958383 -1.3567553 ]\n",
      " [ 1.04764561 -0.07151462  0.71429285  0.69720563]\n",
      " [ 0.20390418 -1.83187458  0.13079971 -0.26130947]\n",
      " [-0.76037174  1.02871035 -1.32793314 -1.3567553 ]\n",
      " [-0.0371648  -0.73164961  0.77264217  0.97106708]\n",
      " [-1.00144072  0.80866536 -1.32793314 -1.3567553 ]\n",
      " [ 1.1681801  -0.51160461  0.59759423  0.28641344]\n",
      " [ 1.52978357 -0.07151462  1.23943668  1.24492854]\n",
      " [-1.36304419  0.36857537 -1.44463177 -1.3567553 ]\n",
      " [-0.15769929  3.0091153  -1.32793314 -1.08289384]\n",
      " [-1.2425097  -0.07151462 -1.38628246 -1.21982457]\n",
      " [-0.15769929 -0.29155962  0.24749834  0.14948271]\n",
      " [ 0.68604214  0.36857537  0.42254628  0.42334417]\n",
      " [ 0.44497316 -1.83187458  0.42254628  0.42334417]\n",
      " [ 2.25299051 -0.51160461  1.7062312   1.10799781]\n",
      " [-0.27823378 -0.07151462  0.42254628  0.42334417]\n",
      " [-1.12197521 -1.1717396   0.42254628  0.69720563]\n",
      " [-0.76037174  2.34898032 -1.32793314 -1.49368603]\n",
      " [-0.0371648  -0.73164961  0.0724504   0.01255198]\n",
      " [-1.60411317 -1.61182959 -1.44463177 -1.21982457]\n",
      " [ 0.56550765 -0.73164961  0.65594354  0.83413635]\n",
      " [ 1.1681801  -0.07151462  1.00603943  1.24492854]\n",
      " [-0.39876827 -1.39178459 -0.04424823 -0.26130947]\n",
      " [-0.88090623 -1.1717396  -0.45269343 -0.12437875]\n",
      " [-0.76037174 -0.73164961  0.0724504   0.28641344]\n",
      " [-1.2425097   0.14853037 -1.26958383 -1.3567553 ]\n",
      " [ 0.32443867 -0.51160461  0.53924491  0.01255198]\n",
      " [-0.51930276  1.90889033 -1.21123451 -1.08289384]\n",
      " [-0.76037174  0.80866536 -1.38628246 -1.3567553 ]\n",
      " [ 1.04764561  0.14853037  0.36419697  0.28641344]\n",
      " [ 0.80657663 -0.07151462  1.18108737  1.38185927]\n",
      " [-0.15769929  1.68884533 -1.21123451 -1.21982457]\n",
      " [-0.39876827  1.02871035 -1.44463177 -1.3567553 ]\n",
      " [-1.48357868  1.24875534 -1.61967971 -1.3567553 ]\n",
      " [ 1.28871459  0.14853037  0.94769011  1.24492854]\n",
      " [ 1.89138704 -0.51160461  1.35613531  0.97106708]\n",
      " [ 0.20390418 -0.07151462  0.59759423  0.83413635]\n",
      " [ 0.44497316 -0.51160461  0.59759423  0.83413635]\n",
      " [ 2.25299051 -0.07151462  1.35613531  1.51879   ]\n",
      " [-0.39876827  2.56902531 -1.38628246 -1.3567553 ]\n",
      " [-1.00144072 -2.27196457 -0.16094686 -0.26130947]\n",
      " [-0.27823378 -0.51160461  0.65594354  1.10799781]\n",
      " [-0.15769929 -0.51160461  0.42254628  0.14948271]\n",
      " [-0.39876827 -1.61182959  0.13079971  0.14948271]\n",
      " [ 0.56550765 -0.29155962  1.06438874  0.83413635]\n",
      " [-0.51930276 -0.07151462  0.42254628  0.42334417]] [[-0.88090623  1.02871035 -1.38628246 -1.21982457]\n",
      " [ 0.08336969 -0.07151462  0.24749834  0.42334417]\n",
      " [-1.72464766 -0.29155962 -1.38628246 -1.3567553 ]\n",
      " [ 0.68604214 -0.51160461  1.06438874  1.38185927]\n",
      " [-0.51930276  0.80866536 -1.32793314 -1.08289384]\n",
      " [-1.12197521  0.14853037 -1.32793314 -1.3567553 ]\n",
      " [ 0.68604214  0.36857537  0.8893408   1.51879   ]\n",
      " [ 1.04764561 -0.07151462  0.83099148  1.51879   ]\n",
      " [ 0.80657663 -0.07151462  1.00603943  0.83413635]\n",
      " [-1.00144072  0.80866536 -1.26958383 -1.08289384]\n",
      " [ 0.32443867 -0.9516946   1.06438874  0.28641344]\n",
      " [-0.15769929 -0.9516946  -0.16094686 -0.26130947]\n",
      " [-1.00144072  1.02871035 -1.44463177 -1.21982457]\n",
      " [ 0.56550765  0.58862036  0.53924491  0.5602749 ]\n",
      " [-1.00144072  0.58862036 -1.38628246 -1.3567553 ]\n",
      " [-0.27823378 -1.1717396   0.0724504  -0.12437875]\n",
      " [-0.51930276  1.46880034 -1.32793314 -1.3567553 ]\n",
      " [ 0.32443867 -0.07151462  0.65594354  0.83413635]\n",
      " [-0.63983725  1.46880034 -1.32793314 -1.3567553 ]\n",
      " [-0.88090623  0.80866536 -1.32793314 -1.3567553 ]\n",
      " [ 1.28871459  0.14853037  0.77264217  1.51879   ]\n",
      " [ 2.25299051 -0.9516946   1.82292982  1.51879   ]\n",
      " [ 1.65031806 -0.07151462  1.18108737  0.5602749 ]\n",
      " [ 1.04764561  0.58862036  1.12273805  1.79265145]\n",
      " [-0.88090623  1.46880034 -1.32793314 -1.08289384]\n",
      " [ 0.44497316  0.80866536  0.94769011  1.51879   ]\n",
      " [ 0.32443867 -0.07151462  0.4808956   0.28641344]\n",
      " [-1.00144072  0.36857537 -1.50298108 -1.3567553 ]\n",
      " [ 1.04764561  0.58862036  1.12273805  1.24492854]\n",
      " [ 1.28871459  0.36857537  1.12273805  1.51879   ]]\n"
     ]
    }
   ],
   "source": [
    "from sklearn.preprocessing import StandardScaler, Normalizer\n",
    "\n",
    "print(X_train, X_test)\n",
    "\n",
    "scaler = StandardScaler()\n",
    "X_train_fitted = scaler.fit_transform(X_train)\n",
    "X_test_fitted = scaler.transform(X_test)\n",
    "\n",
    "print(X_train_fitted, X_test_fitted)"
   ]
  },
  {
   "cell_type": "code",
   "execution_count": 47,
   "id": "99eed97a-ad73-40a4-9cf4-bf329c662ecd",
   "metadata": {},
   "outputs": [
    {
     "data": {
      "text/plain": [
       "(7.9, 0.1)"
      ]
     },
     "execution_count": 47,
     "metadata": {},
     "output_type": "execute_result"
    }
   ],
   "source": [
    "X_train.max(), X_train.min()"
   ]
  },
  {
   "cell_type": "code",
   "execution_count": 48,
   "id": "286e7929-f797-4ebc-b60e-00e48e606f88",
   "metadata": {},
   "outputs": [
    {
     "data": {
      "text/plain": [
       "(3.009115301607578, -2.2719645695867072)"
      ]
     },
     "execution_count": 48,
     "metadata": {},
     "output_type": "execute_result"
    }
   ],
   "source": [
    "X_train_fitted.max(), X_train_fitted.min()"
   ]
  },
  {
   "cell_type": "code",
   "execution_count": 49,
   "id": "03922017-2745-4000-ad80-d06492034fc9",
   "metadata": {},
   "outputs": [
    {
     "name": "stdout",
     "output_type": "stream",
     "text": [
      "[[7.  3.2 4.7 1.4]\n",
      " [6.5 2.8 4.6 1.5]\n",
      " [6.  2.9 4.5 1.5]\n",
      " [6.7 2.5 5.8 1.8]\n",
      " [6.7 3.1 5.6 2.4]\n",
      " [6.1 2.9 4.7 1.4]\n",
      " [6.4 2.9 4.3 1.3]\n",
      " [5.4 3.4 1.7 0.2]\n",
      " [5.6 2.9 3.6 1.3]\n",
      " [5.4 3.9 1.3 0.4]\n",
      " [6.4 2.7 5.3 1.9]\n",
      " [7.6 3.  6.6 2.1]\n",
      " [6.2 2.9 4.3 1.3]\n",
      " [5.6 3.  4.1 1.3]\n",
      " [4.9 3.1 1.5 0.1]\n",
      " [5.9 3.  5.1 1.8]\n",
      " [4.8 3.4 1.9 0.2]\n",
      " [4.9 2.4 3.3 1. ]\n",
      " [7.7 3.8 6.7 2.2]\n",
      " [5.7 2.8 4.1 1.3]\n",
      " [5.5 2.5 4.  1.3]\n",
      " [6.3 2.5 5.  1.9]\n",
      " [5.  3.5 1.6 0.6]\n",
      " [5.8 2.8 5.1 2.4]\n",
      " [4.9 3.6 1.4 0.1]\n",
      " [5.1 3.5 1.4 0.2]\n",
      " [5.6 2.7 4.2 1.3]\n",
      " [6.3 2.3 4.4 1.3]\n",
      " [7.2 3.6 6.1 2.5]\n",
      " [6.6 2.9 4.6 1.3]\n",
      " [6.  3.4 4.5 1.6]\n",
      " [4.6 3.4 1.4 0.3]\n",
      " [5.1 3.8 1.5 0.3]\n",
      " [5.8 2.6 4.  1.2]\n",
      " [5.8 2.7 4.1 1. ]\n",
      " [7.3 2.9 6.3 1.8]\n",
      " [5.1 3.3 1.7 0.5]\n",
      " [5.  3.6 1.4 0.2]\n",
      " [4.6 3.2 1.4 0.2]\n",
      " [6.8 3.2 5.9 2.3]\n",
      " [6.7 3.1 4.7 1.5]\n",
      " [4.4 3.2 1.3 0.2]\n",
      " [4.8 3.4 1.6 0.2]\n",
      " [5.7 3.  4.2 1.2]\n",
      " [6.5 3.  5.2 2. ]\n",
      " [4.7 3.2 1.6 0.2]\n",
      " [4.6 3.1 1.5 0.2]\n",
      " [5.8 4.  1.2 0.2]\n",
      " [6.6 3.  4.4 1.4]\n",
      " [6.3 2.5 4.9 1.5]\n",
      " [5.5 2.6 4.4 1.2]\n",
      " [5.1 3.8 1.6 0.2]\n",
      " [5.  2.3 3.3 1. ]\n",
      " [6.3 3.4 5.6 2.4]\n",
      " [5.5 2.4 3.8 1.1]\n",
      " [6.9 3.1 4.9 1.5]\n",
      " [4.9 3.  1.4 0.2]\n",
      " [4.4 3.  1.3 0.2]\n",
      " [6.5 3.2 5.1 2. ]\n",
      " [5.1 3.8 1.9 0.4]\n",
      " [4.3 3.  1.1 0.1]\n",
      " [6.4 3.1 5.5 1.8]\n",
      " [6.4 2.8 5.6 2.1]\n",
      " [6.  2.2 5.  1.5]\n",
      " [6.1 2.8 4.  1.3]\n",
      " [5.9 3.2 4.8 1.8]\n",
      " [6.3 2.8 5.1 1.5]\n",
      " [7.9 3.8 6.4 2. ]\n",
      " [4.8 3.  1.4 0.1]\n",
      " [7.2 3.2 6.  1.8]\n",
      " [6.  2.7 5.1 1.6]\n",
      " [5.8 2.7 5.1 1.9]\n",
      " [5.7 2.5 5.  2. ]\n",
      " [6.3 3.3 6.  2.5]\n",
      " [5.  3.  1.6 0.2]\n",
      " [6.7 3.  5.  1.7]\n",
      " [6.  2.2 4.  1. ]\n",
      " [5.2 3.5 1.5 0.2]\n",
      " [5.8 2.7 5.1 1.9]\n",
      " [5.  3.4 1.5 0.2]\n",
      " [6.8 2.8 4.8 1.4]\n",
      " [7.1 3.  5.9 2.1]\n",
      " [4.7 3.2 1.3 0.2]\n",
      " [5.7 4.4 1.5 0.4]\n",
      " [4.8 3.  1.4 0.3]\n",
      " [5.7 2.9 4.2 1.3]\n",
      " [6.4 3.2 4.5 1.5]\n",
      " [6.2 2.2 4.5 1.5]\n",
      " [7.7 2.8 6.7 2. ]\n",
      " [5.6 3.  4.5 1.5]\n",
      " [4.9 2.5 4.5 1.7]\n",
      " [5.2 4.1 1.5 0.1]\n",
      " [5.8 2.7 3.9 1.2]\n",
      " [4.5 2.3 1.3 0.3]\n",
      " [6.3 2.7 4.9 1.8]\n",
      " [6.8 3.  5.5 2.1]\n",
      " [5.5 2.4 3.7 1. ]\n",
      " [5.1 2.5 3.  1.1]\n",
      " [5.2 2.7 3.9 1.4]\n",
      " [4.8 3.1 1.6 0.2]\n",
      " [6.1 2.8 4.7 1.2]\n",
      " [5.4 3.9 1.7 0.4]\n",
      " [5.2 3.4 1.4 0.2]\n",
      " [6.7 3.1 4.4 1.4]\n",
      " [6.5 3.  5.8 2.2]\n",
      " [5.7 3.8 1.7 0.3]\n",
      " [5.5 3.5 1.3 0.2]\n",
      " [4.6 3.6 1.  0.2]\n",
      " [6.9 3.1 5.4 2.1]\n",
      " [7.4 2.8 6.1 1.9]\n",
      " [6.  3.  4.8 1.8]\n",
      " [6.2 2.8 4.8 1.8]\n",
      " [7.7 3.  6.1 2.3]\n",
      " [5.5 4.2 1.4 0.2]\n",
      " [5.  2.  3.5 1. ]\n",
      " [5.6 2.8 4.9 2. ]\n",
      " [5.7 2.8 4.5 1.3]\n",
      " [5.5 2.3 4.  1.3]\n",
      " [6.3 2.9 5.6 1.8]\n",
      " [5.4 3.  4.5 1.5]] [[5.1 3.5 1.4 0.3]\n",
      " [5.9 3.  4.2 1.5]\n",
      " [4.4 2.9 1.4 0.2]\n",
      " [6.4 2.8 5.6 2.2]\n",
      " [5.4 3.4 1.5 0.4]\n",
      " [4.9 3.1 1.5 0.2]\n",
      " [6.4 3.2 5.3 2.3]\n",
      " [6.7 3.  5.2 2.3]\n",
      " [6.5 3.  5.5 1.8]\n",
      " [5.  3.4 1.6 0.4]\n",
      " [6.1 2.6 5.6 1.4]\n",
      " [5.7 2.6 3.5 1. ]\n",
      " [5.  3.5 1.3 0.3]\n",
      " [6.3 3.3 4.7 1.6]\n",
      " [5.  3.3 1.4 0.2]\n",
      " [5.6 2.5 3.9 1.1]\n",
      " [5.4 3.7 1.5 0.2]\n",
      " [6.1 3.  4.9 1.8]\n",
      " [5.3 3.7 1.5 0.2]\n",
      " [5.1 3.4 1.5 0.2]\n",
      " [6.9 3.1 5.1 2.3]\n",
      " [7.7 2.6 6.9 2.3]\n",
      " [7.2 3.  5.8 1.6]\n",
      " [6.7 3.3 5.7 2.5]\n",
      " [5.1 3.7 1.5 0.4]\n",
      " [6.2 3.4 5.4 2.3]\n",
      " [6.1 3.  4.6 1.4]\n",
      " [5.  3.2 1.2 0.2]\n",
      " [6.7 3.3 5.7 2.1]\n",
      " [6.9 3.2 5.7 2.3]]\n",
      "[[0.76701103 0.35063361 0.51499312 0.15340221]\n",
      " [0.7581754  0.32659863 0.5365549  0.17496355]\n",
      " [0.73350949 0.35452959 0.55013212 0.18337737]\n",
      " [0.71414125 0.26647062 0.61821183 0.19185884]\n",
      " [0.69997037 0.32386689 0.58504986 0.25073566]\n",
      " [0.73081412 0.34743622 0.56308629 0.16772783]\n",
      " [0.76741698 0.34773582 0.51560829 0.15588157]\n",
      " [0.8173379  0.51462016 0.25731008 0.03027177]\n",
      " [0.75911707 0.3931142  0.48800383 0.17622361]\n",
      " [0.79428944 0.57365349 0.19121783 0.05883625]\n",
      " [0.71576546 0.30196356 0.59274328 0.21249287]\n",
      " [0.70953708 0.28008043 0.61617694 0.1960563 ]\n",
      " [0.75728103 0.3542121  0.52521104 0.15878473]\n",
      " [0.72992443 0.39103094 0.53440896 0.16944674]\n",
      " [0.81803119 0.51752994 0.25041771 0.01669451]\n",
      " [0.69025916 0.35097923 0.5966647  0.21058754]\n",
      " [0.776114   0.54974742 0.30721179 0.03233808]\n",
      " [0.75916547 0.37183615 0.51127471 0.15493173]\n",
      " [0.69299099 0.34199555 0.60299216 0.19799743]\n",
      " [0.7431482  0.36505526 0.5345452  0.16948994]\n",
      " [0.74714194 0.33960997 0.54337595 0.17659719]\n",
      " [0.72965359 0.28954508 0.57909015 0.22005426]\n",
      " [0.78889479 0.55222635 0.25244633 0.09466737]\n",
      " [0.67767924 0.32715549 0.59589036 0.28041899]\n",
      " [0.78523221 0.5769053  0.22435206 0.01602515]\n",
      " [0.80377277 0.55160877 0.22064351 0.0315205 ]\n",
      " [0.73544284 0.35458851 0.55158213 0.1707278 ]\n",
      " [0.77530021 0.28304611 0.54147951 0.15998258]\n",
      " [0.69198788 0.34599394 0.58626751 0.24027357]\n",
      " [0.76301853 0.33526572 0.53180079 0.15029153]\n",
      " [0.71524936 0.40530797 0.53643702 0.19073316]\n",
      " [0.78010936 0.57660257 0.23742459 0.0508767 ]\n",
      " [0.77964883 0.58091482 0.22930848 0.0458617 ]\n",
      " [0.76262994 0.34186859 0.52595168 0.1577855 ]\n",
      " [0.75676497 0.35228714 0.53495455 0.13047672]\n",
      " [0.71366557 0.28351098 0.61590317 0.17597233]\n",
      " [0.80597792 0.52151512 0.26865931 0.07901744]\n",
      " [0.790965   0.5694948  0.2214702  0.0316386 ]\n",
      " [0.79594782 0.55370283 0.24224499 0.03460643]\n",
      " [0.69193502 0.32561648 0.60035539 0.23403685]\n",
      " [0.75457341 0.34913098 0.52932761 0.16893434]\n",
      " [0.78609038 0.57170209 0.23225397 0.03573138]\n",
      " [0.786991   0.55745196 0.26233033 0.03279129]\n",
      " [0.73239618 0.38547167 0.53966034 0.15418867]\n",
      " [0.71653899 0.3307103  0.57323119 0.22047353]\n",
      " [0.79524064 0.54144043 0.27072022 0.03384003]\n",
      " [0.80003025 0.53915082 0.26087943 0.03478392]\n",
      " [0.81120865 0.55945424 0.16783627 0.02797271]\n",
      " [0.76785726 0.34902603 0.51190484 0.16287881]\n",
      " [0.74143307 0.29421947 0.57667016 0.17653168]\n",
      " [0.72337118 0.34195729 0.57869695 0.15782644]\n",
      " [0.77729093 0.57915795 0.24385598 0.030482  ]\n",
      " [0.76986879 0.35413965 0.5081134  0.15397376]\n",
      " [0.67017484 0.36168166 0.59571097 0.2553047 ]\n",
      " [0.76521855 0.33391355 0.52869645 0.15304371]\n",
      " [0.75519285 0.33928954 0.53629637 0.16417236]\n",
      " [0.82813287 0.50702013 0.23660939 0.03380134]\n",
      " [0.80212413 0.54690282 0.23699122 0.03646019]\n",
      " [0.71562645 0.3523084  0.56149152 0.22019275]\n",
      " [0.76693897 0.57144472 0.28572236 0.06015208]\n",
      " [0.8025126  0.55989251 0.20529392 0.01866308]\n",
      " [0.69804799 0.338117   0.59988499 0.196326  ]\n",
      " [0.69594002 0.30447376 0.60894751 0.22835532]\n",
      " [0.72712585 0.26661281 0.60593821 0.18178146]\n",
      " [0.77011854 0.35349703 0.50499576 0.16412362]\n",
      " [0.6985796  0.37889063 0.56833595 0.21312598]\n",
      " [0.72366005 0.32162669 0.58582004 0.17230001]\n",
      " [0.71578999 0.34430405 0.5798805  0.18121266]\n",
      " [0.82307218 0.51442011 0.24006272 0.01714734]\n",
      " [0.71529453 0.31790868 0.59607878 0.17882363]\n",
      " [0.70779525 0.31850786 0.60162596 0.1887454 ]\n",
      " [0.69052512 0.32145135 0.60718588 0.22620651]\n",
      " [0.6925518  0.30375079 0.60750157 0.24300063]\n",
      " [0.65387747 0.34250725 0.62274045 0.25947519]\n",
      " [0.82647451 0.4958847  0.26447184 0.03305898]\n",
      " [0.74088576 0.33173989 0.55289982 0.18798594]\n",
      " [0.78892752 0.28927343 0.52595168 0.13148792]\n",
      " [0.80641965 0.54278246 0.23262105 0.03101614]\n",
      " [0.69052512 0.32145135 0.60718588 0.22620651]\n",
      " [0.80218492 0.54548574 0.24065548 0.0320874 ]\n",
      " [0.76467269 0.31486523 0.53976896 0.15743261]\n",
      " [0.71491405 0.30207636 0.59408351 0.21145345]\n",
      " [0.80533308 0.54831188 0.2227517  0.03426949]\n",
      " [0.77381111 0.59732787 0.2036345  0.05430253]\n",
      " [0.82210585 0.51381615 0.23978087 0.05138162]\n",
      " [0.73446047 0.37367287 0.5411814  0.16750853]\n",
      " [0.74549757 0.37274878 0.52417798 0.17472599]\n",
      " [0.76444238 0.27125375 0.55483721 0.18494574]\n",
      " [0.71486543 0.25995106 0.62202576 0.18567933]\n",
      " [0.70631892 0.37838513 0.5675777  0.18919257]\n",
      " [0.67054118 0.34211284 0.61580312 0.23263673]\n",
      " [0.76578311 0.60379053 0.22089897 0.0147266 ]\n",
      " [0.76434981 0.35581802 0.51395936 0.15814134]\n",
      " [0.86093857 0.44003527 0.24871559 0.0573959 ]\n",
      " [0.73122464 0.31338199 0.56873028 0.20892133]\n",
      " [0.71718148 0.31640359 0.58007326 0.22148252]\n",
      " [0.77242925 0.33706004 0.51963422 0.14044168]\n",
      " [0.78258054 0.38361791 0.4603415  0.16879188]\n",
      " [0.72460233 0.37623583 0.54345175 0.19508524]\n",
      " [0.80846584 0.52213419 0.26948861 0.03368608]\n",
      " [0.73659895 0.33811099 0.56754345 0.14490471]\n",
      " [0.78417499 0.5663486  0.2468699  0.05808704]\n",
      " [0.81609427 0.5336001  0.21971769 0.03138824]\n",
      " [0.76945444 0.35601624 0.50531337 0.16078153]\n",
      " [0.68619022 0.31670318 0.61229281 0.232249  ]\n",
      " [0.8068282  0.53788547 0.24063297 0.04246464]\n",
      " [0.82699754 0.52627116 0.19547215 0.03007264]\n",
      " [0.77577075 0.60712493 0.16864581 0.03372916]\n",
      " [0.72415258 0.32534391 0.56672811 0.22039426]\n",
      " [0.72766159 0.27533141 0.59982915 0.18683203]\n",
      " [0.71066905 0.35533453 0.56853524 0.21320072]\n",
      " [0.72785195 0.32870733 0.56349829 0.21131186]\n",
      " [0.73154399 0.28501714 0.57953485 0.21851314]\n",
      " [0.77867447 0.59462414 0.19820805 0.02831544]\n",
      " [0.76923077 0.30769231 0.53846154 0.15384615]\n",
      " [0.68307923 0.34153961 0.59769433 0.24395687]\n",
      " [0.72232962 0.35482858 0.57026022 0.16474184]\n",
      " [0.75384916 0.31524601 0.54825394 0.17818253]\n",
      " [0.69276796 0.31889319 0.61579374 0.1979337 ]\n",
      " [0.69333409 0.38518561 0.57777841 0.1925928 ]] [[0.80327412 0.55126656 0.22050662 0.04725142]\n",
      " [0.73923462 0.37588201 0.52623481 0.187941  ]\n",
      " [0.80642366 0.5315065  0.25658935 0.03665562]\n",
      " [0.69417747 0.30370264 0.60740528 0.2386235 ]\n",
      " [0.82225028 0.51771314 0.22840286 0.06090743]\n",
      " [0.81768942 0.51731371 0.25031309 0.03337508]\n",
      " [0.69589887 0.34794944 0.57629125 0.25008866]\n",
      " [0.72155725 0.32308533 0.56001458 0.24769876]\n",
      " [0.70610474 0.3258945  0.59747324 0.1955367 ]\n",
      " [0.79778206 0.5424918  0.25529026 0.06382256]\n",
      " [0.69385414 0.29574111 0.63698085 0.15924521]\n",
      " [0.78667474 0.35883409 0.48304589 0.13801311]\n",
      " [0.80033301 0.56023311 0.20808658 0.04801998]\n",
      " [0.72634846 0.38046824 0.54187901 0.18446945]\n",
      " [0.81228363 0.5361072  0.22743942 0.03249135]\n",
      " [0.76185188 0.34011245 0.53057542 0.14964948]\n",
      " [0.80373519 0.55070744 0.22325977 0.02976797]\n",
      " [0.71171214 0.35002236 0.57170319 0.21001342]\n",
      " [0.79837025 0.55735281 0.22595384 0.03012718]\n",
      " [0.80779568 0.53853046 0.23758697 0.03167826]\n",
      " [0.73337886 0.32948905 0.54206264 0.24445962]\n",
      " [0.70600618 0.2383917  0.63265489 0.21088496]\n",
      " [0.73089855 0.30454106 0.58877939 0.1624219 ]\n",
      " [0.68914871 0.33943145 0.58629069 0.25714504]\n",
      " [0.78591858 0.57017622 0.23115252 0.06164067]\n",
      " [0.67467072 0.36998072 0.58761643 0.25028107]\n",
      " [0.73260391 0.36029701 0.55245541 0.1681386 ]\n",
      " [0.82512295 0.52807869 0.19802951 0.03300492]\n",
      " [0.69595601 0.3427843  0.59208198 0.21813547]\n",
      " [0.70558934 0.32722984 0.58287815 0.23519645]]\n"
     ]
    }
   ],
   "source": [
    "print(X_train, X_test)\n",
    "\n",
    "normalizer = Normalizer()\n",
    "X_train_fitted = normalizer.fit_transform(X_train)\n",
    "X_test_fitted = normalizer.transform(X_test)\n",
    "\n",
    "print(X_train_fitted, X_test_fitted)"
   ]
  },
  {
   "cell_type": "code",
   "execution_count": 50,
   "id": "aa4727c6-9a48-4e15-90aa-63d7c8a5d979",
   "metadata": {},
   "outputs": [
    {
     "data": {
      "text/plain": [
       "(7.9, 0.1)"
      ]
     },
     "execution_count": 50,
     "metadata": {},
     "output_type": "execute_result"
    }
   ],
   "source": [
    "X_train.max(), X_train.min()"
   ]
  },
  {
   "cell_type": "code",
   "execution_count": 52,
   "id": "888cceb8-98a2-4e2d-baf4-5354961ac622",
   "metadata": {},
   "outputs": [
    {
     "data": {
      "text/plain": [
       "(0.8609385732675535, 0.014726598240177802)"
      ]
     },
     "execution_count": 52,
     "metadata": {},
     "output_type": "execute_result"
    }
   ],
   "source": [
    "X_train_fitted.max(), X_train_fitted.min()"
   ]
  },
  {
   "cell_type": "markdown",
   "id": "341085cf-3ee9-4630-b1ae-c6639e214bda",
   "metadata": {},
   "source": [
    "When creating and training neural networks, there is a lot of preprocessing that needs to be done before feeding the data as a batch to the network.\n",
    "\n",
    "Also, different parameters need to be scaled in order to be appropriate datapoints to learn from for the neural network. Using preprocessing techniques and data manipulations via numpy and scikit-learn will prove very helpful when diving into these complex topics."
   ]
  },
  {
   "cell_type": "code",
   "execution_count": 25,
   "id": "71fa4da1-4974-4b11-b232-aa1fb140a884",
   "metadata": {},
   "outputs": [
    {
     "data": {
      "text/plain": [
       "array([[0., 0., 0.],\n",
       "       [0., 0., 0.],\n",
       "       [0., 0., 0.],\n",
       "       [0., 0., 0.]])"
      ]
     },
     "execution_count": 25,
     "metadata": {},
     "output_type": "execute_result"
    }
   ],
   "source": [
    "np.zeros((4,3))"
   ]
  },
  {
   "cell_type": "code",
   "execution_count": null,
   "id": "d37b603b-5d9d-42ff-9f31-44a79cb14485",
   "metadata": {},
   "outputs": [],
   "source": []
  }
 ],
 "metadata": {
  "kernelspec": {
   "display_name": "Python 3 (ipykernel)",
   "language": "python",
   "name": "python3"
  },
  "language_info": {
   "codemirror_mode": {
    "name": "ipython",
    "version": 3
   },
   "file_extension": ".py",
   "mimetype": "text/x-python",
   "name": "python",
   "nbconvert_exporter": "python",
   "pygments_lexer": "ipython3",
   "version": "3.9.18"
  }
 },
 "nbformat": 4,
 "nbformat_minor": 5
}
